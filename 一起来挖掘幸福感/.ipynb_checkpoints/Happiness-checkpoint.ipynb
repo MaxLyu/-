{
 "cells": [
  {
   "cell_type": "markdown",
   "metadata": {},
   "source": [
    "# 天池新人赛 【挖掘幸福感】\n",
    "\n",
    "幸福感是一个古老而深刻的话题，是人类世代追求的方向。与幸福感相关的因素成千上万、因人而异，大如国计民生，小如路边烤红薯，都会对幸福感产生影响。这些错综复杂的因素中，我们能找到其中的共性，一窥幸福感的要义吗？\n",
    "\n",
    "-1 = 不适用; -2 = 不知道; -3 = 拒绝回答; -8 = 无法回答;\n"
   ]
  },
  {
   "cell_type": "code",
   "execution_count": 1,
   "metadata": {},
   "outputs": [],
   "source": [
    "import time\n",
    "import numpy as np\n",
    "import pandas as pd\n",
    "import matplotlib.pyplot as plt\n",
    "import seaborn as sns\n",
    "from sklearn.model_selection import GridSearchCV"
   ]
  },
  {
   "cell_type": "code",
   "execution_count": 2,
   "metadata": {},
   "outputs": [],
   "source": [
    "train = pd.read_csv('./input/happiness_train_complete.csv', encoding='gbk', index_col=0)\n",
    "test = pd.read_csv('./input/happiness_test_complete.csv', encoding='gbk', index_col=0)"
   ]
  },
  {
   "cell_type": "code",
   "execution_count": 3,
   "metadata": {},
   "outputs": [
    {
     "data": {
      "text/plain": [
       "((8000, 139), (2968, 138))"
      ]
     },
     "execution_count": 3,
     "metadata": {},
     "output_type": "execute_result"
    }
   ],
   "source": [
    "train.shape, test.shape"
   ]
  },
  {
   "cell_type": "markdown",
   "metadata": {},
   "source": [
    "## 特征分析\n",
    "\n",
    "### 1、happiness\n",
    "简单查看一下幸福指数的情况"
   ]
  },
  {
   "cell_type": "code",
   "execution_count": 4,
   "metadata": {},
   "outputs": [
    {
     "data": {
      "text/plain": [
       " 4    4818\n",
       " 5    1410\n",
       " 3    1159\n",
       " 2     497\n",
       " 1     104\n",
       "-8      12\n",
       "Name: happiness, dtype: int64"
      ]
     },
     "execution_count": 4,
     "metadata": {},
     "output_type": "execute_result"
    }
   ],
   "source": [
    "train['happiness'].value_counts()"
   ]
  },
  {
   "cell_type": "markdown",
   "metadata": {},
   "source": [
    "绝大部分人的幸福指数为4，数据当中有 -8：无法回答，为了增加后面工作的准确性，减少噪声的干扰，将 happiness = -8 的数据删除。删除后查看一下人均幸福指数"
   ]
  },
  {
   "cell_type": "code",
   "execution_count": 5,
   "metadata": {},
   "outputs": [],
   "source": [
    "train.drop(train[train['happiness']==-8].index, inplace=True)"
   ]
  },
  {
   "cell_type": "code",
   "execution_count": 6,
   "metadata": {},
   "outputs": [
    {
     "data": {
      "text/plain": [
       "3.8679268903355033"
      ]
     },
     "execution_count": 6,
     "metadata": {},
     "output_type": "execute_result"
    }
   ],
   "source": [
    "train['happiness'].mean()"
   ]
  },
  {
   "cell_type": "markdown",
   "metadata": {},
   "source": [
    "总体来说，人均幸福指数有3.85左右，程度大概为中上水平。"
   ]
  },
  {
   "cell_type": "markdown",
   "metadata": {},
   "source": [
    "### 2、gender\n",
    "\n",
    "分析一下性别与幸福指数之间的关系"
   ]
  },
  {
   "cell_type": "code",
   "execution_count": 7,
   "metadata": {},
   "outputs": [
    {
     "data": {
      "text/plain": [
       "2    4236\n",
       "1    3752\n",
       "Name: gender, dtype: int64"
      ]
     },
     "execution_count": 7,
     "metadata": {},
     "output_type": "execute_result"
    }
   ],
   "source": [
    "train['gender'].value_counts()"
   ]
  },
  {
   "cell_type": "code",
   "execution_count": 8,
   "metadata": {},
   "outputs": [
    {
     "data": {
      "text/html": [
       "<div>\n",
       "<style scoped>\n",
       "    .dataframe tbody tr th:only-of-type {\n",
       "        vertical-align: middle;\n",
       "    }\n",
       "\n",
       "    .dataframe tbody tr th {\n",
       "        vertical-align: top;\n",
       "    }\n",
       "\n",
       "    .dataframe thead th {\n",
       "        text-align: right;\n",
       "    }\n",
       "</style>\n",
       "<table border=\"1\" class=\"dataframe\">\n",
       "  <thead>\n",
       "    <tr style=\"text-align: right;\">\n",
       "      <th></th>\n",
       "      <th>gender</th>\n",
       "      <th>happiness</th>\n",
       "    </tr>\n",
       "    <tr>\n",
       "      <th>gender</th>\n",
       "      <th></th>\n",
       "      <th></th>\n",
       "    </tr>\n",
       "  </thead>\n",
       "  <tbody>\n",
       "    <tr>\n",
       "      <th>1</th>\n",
       "      <td>1.0</td>\n",
       "      <td>3.853412</td>\n",
       "    </tr>\n",
       "    <tr>\n",
       "      <th>2</th>\n",
       "      <td>2.0</td>\n",
       "      <td>3.880784</td>\n",
       "    </tr>\n",
       "  </tbody>\n",
       "</table>\n",
       "</div>"
      ],
      "text/plain": [
       "        gender  happiness\n",
       "gender                   \n",
       "1          1.0   3.853412\n",
       "2          2.0   3.880784"
      ]
     },
     "execution_count": 8,
     "metadata": {},
     "output_type": "execute_result"
    }
   ],
   "source": [
    "train.groupby('gender')['gender', 'happiness'].mean()"
   ]
  },
  {
   "cell_type": "code",
   "execution_count": 9,
   "metadata": {},
   "outputs": [
    {
     "data": {
      "text/plain": [
       "<matplotlib.axes._subplots.AxesSubplot at 0x225867e5358>"
      ]
     },
     "execution_count": 9,
     "metadata": {},
     "output_type": "execute_result"
    },
    {
     "data": {
      "image/png": "[encoded data removed]",
      "text/plain": [
       "<Figure size 432x288 with 1 Axes>"
      ]
     },
     "metadata": {
      "needs_background": "light"
     },
     "output_type": "display_data"
    }
   ],
   "source": [
    "sns.countplot('gender',hue='happiness',data=train)"
   ]
  },
  {
   "cell_type": "markdown",
   "metadata": {},
   "source": [
    "从表格与图像来看，幸福感和性别的关系并不大"
   ]
  },
  {
   "cell_type": "markdown",
   "metadata": {},
   "source": [
    "### 3、survey_type"
   ]
  },
  {
   "cell_type": "code",
   "execution_count": 10,
   "metadata": {},
   "outputs": [
    {
     "data": {
      "text/plain": [
       "1    4745\n",
       "2    3243\n",
       "Name: survey_type, dtype: int64"
      ]
     },
     "execution_count": 10,
     "metadata": {},
     "output_type": "execute_result"
    }
   ],
   "source": [
    "train['survey_type'].value_counts()"
   ]
  },
  {
   "cell_type": "code",
   "execution_count": 11,
   "metadata": {},
   "outputs": [
    {
     "data": {
      "text/html": [
       "<div>\n",
       "<style scoped>\n",
       "    .dataframe tbody tr th:only-of-type {\n",
       "        vertical-align: middle;\n",
       "    }\n",
       "\n",
       "    .dataframe tbody tr th {\n",
       "        vertical-align: top;\n",
       "    }\n",
       "\n",
       "    .dataframe thead th {\n",
       "        text-align: right;\n",
       "    }\n",
       "</style>\n",
       "<table border=\"1\" class=\"dataframe\">\n",
       "  <thead>\n",
       "    <tr style=\"text-align: right;\">\n",
       "      <th></th>\n",
       "      <th>happiness</th>\n",
       "    </tr>\n",
       "    <tr>\n",
       "      <th>survey_type</th>\n",
       "      <th></th>\n",
       "    </tr>\n",
       "  </thead>\n",
       "  <tbody>\n",
       "    <tr>\n",
       "      <th>1</th>\n",
       "      <td>3.890832</td>\n",
       "    </tr>\n",
       "    <tr>\n",
       "      <th>2</th>\n",
       "      <td>3.834413</td>\n",
       "    </tr>\n",
       "  </tbody>\n",
       "</table>\n",
       "</div>"
      ],
      "text/plain": [
       "             happiness\n",
       "survey_type           \n",
       "1             3.890832\n",
       "2             3.834413"
      ]
     },
     "execution_count": 11,
     "metadata": {},
     "output_type": "execute_result"
    }
   ],
   "source": [
    "train[['survey_type', 'happiness']].groupby('survey_type').mean()"
   ]
  },
  {
   "cell_type": "code",
   "execution_count": 12,
   "metadata": {},
   "outputs": [
    {
     "data": {
      "text/plain": [
       "<matplotlib.axes._subplots.AxesSubplot at 0x22586dcd5c0>"
      ]
     },
     "execution_count": 12,
     "metadata": {},
     "output_type": "execute_result"
    },
    {
     "data": {
      "image/png": "[encoded data removed]",
      "text/plain": [
       "<Figure size 432x288 with 1 Axes>"
      ]
     },
     "metadata": {
      "needs_background": "light"
     },
     "output_type": "display_data"
    }
   ],
   "source": [
    "sns.countplot('survey_type', hue='happiness', data=train)"
   ]
  },
  {
   "cell_type": "markdown",
   "metadata": {},
   "source": [
    "调查数据中城市的基数要比农村的基数大，虽然平均幸福指数都很接近，但城市要比农村的高一点。"
   ]
  },
  {
   "cell_type": "markdown",
   "metadata": {},
   "source": [
    "## 特征处理\n",
    "\n",
    "在此之前，先将happiness提取出来，并将训练集和测试集合并。由于数据中存在负数，为了减小它们的干扰，将其置为空。"
   ]
  },
  {
   "cell_type": "code",
   "execution_count": 13,
   "metadata": {},
   "outputs": [
    {
     "data": {
      "text/plain": [
       "(10956, 138)"
      ]
     },
     "execution_count": 13,
     "metadata": {},
     "output_type": "execute_result"
    }
   ],
   "source": [
    "y_train = train.pop('happiness')\n",
    "data = pd.concat((train, test), axis=0)\n",
    "data.shape"
   ]
  },
  {
   "cell_type": "code",
   "execution_count": 14,
   "metadata": {},
   "outputs": [],
   "source": [
    "data[data == -1] = np.nan\n",
    "data[data == -2] = np.nan\n",
    "data[data == -3] = np.nan\n",
    "data[data == -8] = np.nan"
   ]
  },
  {
   "cell_type": "code",
   "execution_count": 15,
   "metadata": {},
   "outputs": [],
   "source": [
    "data.drop(['city', 'county'], axis=1, inplace=True)"
   ]
  },
  {
   "cell_type": "markdown",
   "metadata": {},
   "source": [
    "查看一下缺失值情况。"
   ]
  },
  {
   "cell_type": "code",
   "execution_count": 16,
   "metadata": {},
   "outputs": [
    {
     "name": "stdout",
     "output_type": "stream",
     "text": [
      "{'nationality': 20}\n",
      "{'religion': 142}\n",
      "{'religion_freq': 22}\n",
      "{'edu': 17}\n",
      "{'edu_other': 10950}\n",
      "{'edu_status': 1605}\n",
      "{'edu_yr': 4427}\n",
      "{'income': 598}\n",
      "{'political': 45}\n",
      "{'join_party': 9951}\n",
      "{'property_other': 10867}\n",
      "{'health': 5}\n",
      "{'health_problem': 50}\n",
      "{'depression': 24}\n",
      "{'hukou_loc': 4}\n",
      "{'media_1': 1}\n",
      "{'media_2': 3}\n",
      "{'media_3': 3}\n",
      "{'media_4': 3}\n",
      "{'media_5': 16}\n",
      "{'media_6': 19}\n",
      "{'leisure_1': 5}\n",
      "{'leisure_2': 19}\n",
      "{'leisure_3': 19}\n",
      "{'leisure_4': 14}\n",
      "{'leisure_5': 90}\n",
      "{'leisure_6': 19}\n",
      "{'leisure_7': 42}\n",
      "{'leisure_8': 22}\n",
      "{'leisure_9': 25}\n",
      "{'leisure_10': 45}\n",
      "{'leisure_11': 46}\n",
      "{'leisure_12': 35}\n",
      "{'socialize': 4}\n",
      "{'relax': 20}\n",
      "{'learn': 26}\n",
      "{'social_neighbor': 1110}\n",
      "{'social_friend': 1154}\n",
      "{'socia_outing': 67}\n",
      "{'equity': 61}\n",
      "{'class': 101}\n",
      "{'class_10_before': 143}\n",
      "{'class_10_after': 632}\n",
      "{'class_14': 186}\n",
      "{'work_status': 6966}\n",
      "{'work_yr': 7139}\n",
      "{'work_type': 7022}\n",
      "{'work_manage': 7016}\n",
      "{'insur_1': 50}\n",
      "{'insur_2': 160}\n",
      "{'insur_3': 217}\n",
      "{'insur_4': 245}\n",
      "{'family_income': 923}\n",
      "{'family_m': 32}\n",
      "{'family_status': 60}\n",
      "{'house': 171}\n",
      "{'car': 11}\n",
      "{'invest_other': 10911}\n",
      "{'son': 13}\n",
      "{'daughter': 15}\n",
      "{'minor_child': 1458}\n",
      "{'marital_1st': 1894}\n",
      "{'s_birth': 2365}\n",
      "{'marital_now': 2931}\n",
      "{'s_edu': 2407}\n",
      "{'s_political': 2387}\n",
      "{'s_hukou': 2386}\n",
      "{'s_income': 3053}\n",
      "{'s_work_exper': 2365}\n",
      "{'s_work_status': 7475}\n",
      "{'s_work_type': 7493}\n",
      "{'f_birth': 4654}\n",
      "{'f_edu': 831}\n",
      "{'f_political': 280}\n",
      "{'f_work_14': 415}\n",
      "{'m_birth': 4438}\n",
      "{'m_edu': 680}\n",
      "{'m_political': 210}\n",
      "{'m_work_14': 402}\n",
      "{'status_peer': 62}\n",
      "{'status_3_before': 55}\n",
      "{'view': 300}\n",
      "{'inc_ability': 1319}\n",
      "{'inc_exp': 1494}\n",
      "{'trust_1': 107}\n",
      "{'trust_2': 311}\n",
      "{'trust_3': 1393}\n",
      "{'trust_4': 1407}\n",
      "{'trust_5': 61}\n",
      "{'trust_6': 1559}\n",
      "{'trust_7': 307}\n",
      "{'trust_8': 1378}\n",
      "{'trust_9': 644}\n",
      "{'trust_10': 2447}\n",
      "{'trust_11': 5450}\n",
      "{'trust_12': 3377}\n",
      "{'trust_13': 211}\n",
      "{'neighbor_familiarity': 11}\n",
      "{'public_service_1': 316}\n",
      "{'public_service_2': 230}\n",
      "{'public_service_3': 586}\n",
      "{'public_service_4': 442}\n",
      "{'public_service_5': 508}\n",
      "{'public_service_6': 319}\n",
      "{'public_service_7': 403}\n",
      "{'public_service_8': 583}\n",
      "{'public_service_9': 402}\n"
     ]
    }
   ],
   "source": [
    "for i in data.columns:\n",
    "    if data.isnull().sum()[i] != 0:\n",
    "        print({i: data.isnull().sum()[i]})"
   ]
  },
  {
   "cell_type": "markdown",
   "metadata": {},
   "source": [
    "### 一、对 date 进行处理\n",
    "未被删除的 date 特征有：survey_time、birth、edu_yr、f_birth、m_birth等。将 survey_time 和 birth 做差之后得到值，设为新列 age。其他特征存在很多缺失值，且对结果的影响不大，因此删除。"
   ]
  },
  {
   "cell_type": "code",
   "execution_count": 17,
   "metadata": {},
   "outputs": [],
   "source": [
    "data['age'] = data['survey_time'].str[:4].astype(int) - data['birth']\n",
    "data.drop(['survey_time', 'birth', 'join_party', 'edu_yr', 'f_birth', 'm_birth', 'work_yr', 'marital_1st', 's_birth', 'marital_now'], \n",
    "          axis=1, inplace=True)"
   ]
  },
  {
   "cell_type": "markdown",
   "metadata": {},
   "source": [
    "### 二、对 numerical 特征进行处理\n",
    "income：年收入、floor_area：住房的建筑面积、height_cm：身高、weight_jin：体重、health_problem：出现身体问题的情况、family_m：家庭成员数、son：儿子、daughter：女儿、minor_child：未成年子女数、inc_exp：令你满意的收入、family_income：家庭年收入、house：房产数、s_income:配偶收入、public_service系列"
   ]
  },
  {
   "cell_type": "code",
   "execution_count": 18,
   "metadata": {},
   "outputs": [],
   "source": [
    "data.loc[data[data['health_problem'].isnull()].index, 'health_problem'] = 0\n",
    "data.loc[data[data['son'].isnull()].index, 'son'] = 0\n",
    "data.loc[data[data['daughter'].isnull()].index, 'daughter'] = 0\n",
    "data.loc[data[data['minor_child'].isnull()].index, 'minor_child'] = 0"
   ]
  },
  {
   "cell_type": "code",
   "execution_count": 19,
   "metadata": {},
   "outputs": [],
   "source": [
    "num_columns = [ 'age','floor_area','height_cm','weight_jin','inc_exp','health_problem','son','daughter','minor_child',\n",
    "            'income','family_income', 's_income', 'house', 'family_m', 'public_service_1',\n",
    "            'public_service_2','public_service_3','public_service_4','public_service_5',\n",
    "            'public_service_6','public_service_7','public_service_8','public_service_9']\n",
    "\n",
    "for i in num_columns:\n",
    "    if data.isnull().sum()[i] != 0:\n",
    "        data[i].fillna(data[i].mean(), inplace=True)"
   ]
  },
  {
   "cell_type": "markdown",
   "metadata": {},
   "source": [
    "### 三、对 categorical 进行处理\n",
    "#### （1）对 education 相关的特征进行处理\n",
    "查看一下 edu_other 不为空的行的情况以及受最高教育的情况"
   ]
  },
  {
   "cell_type": "code",
   "execution_count": 20,
   "metadata": {},
   "outputs": [
    {
     "data": {
      "text/plain": [
       "id\n",
       "1170           夜校\n",
       "2513           夜校\n",
       "4926           夜校\n",
       "8463           夜校\n",
       "9322    中共中央干部训练班\n",
       "9702     受访者回答当过兵\n",
       "Name: edu_other, dtype: object"
      ]
     },
     "execution_count": 20,
     "metadata": {},
     "output_type": "execute_result"
    }
   ],
   "source": [
    "data['edu_other'].loc[data['edu_other'].notnull()]"
   ]
  },
  {
   "cell_type": "markdown",
   "metadata": {},
   "source": [
    "- 1、edu_other 表示受教育程度为其他。空值很多，不为空的小部分可能会产生噪声，因此我们直接把这个特征删除；\n",
    "- 2、由于有些人没有接受教育或者其他原因，因此对于 edu_status 的缺失值，不做处理，到时候进行 One-Hot；"
   ]
  },
  {
   "cell_type": "code",
   "execution_count": 21,
   "metadata": {},
   "outputs": [],
   "source": [
    "data.drop('edu_other', axis=1, inplace=True)"
   ]
  },
  {
   "cell_type": "markdown",
   "metadata": {},
   "source": [
    "#### （2）property_other\n",
    "\n",
    "property_other 表示产权所有为其他，如果填了，则置为1，空值则置为0。"
   ]
  },
  {
   "cell_type": "code",
   "execution_count": 22,
   "metadata": {},
   "outputs": [
    {
     "data": {
      "text/plain": [
       "0"
      ]
     },
     "execution_count": 22,
     "metadata": {},
     "output_type": "execute_result"
    }
   ],
   "source": [
    "data.loc[data[data['property_other'].notnull()].index, 'property_other'] = 1\n",
    "data['property_other'].fillna(0, inplace=True)\n",
    "data['property_other'].isnull().sum()"
   ]
  },
  {
   "cell_type": "markdown",
   "metadata": {},
   "source": [
    "#### （3）对 social 相关的特征进行处理\n",
    "\n",
    "数据中 'social_neighbor'、'social_friend' 这两个有缺失值，对其进行预处理。socialize 表示空闲时间从不进行社交，因此将其置为 7——从不。"
   ]
  },
  {
   "cell_type": "code",
   "execution_count": 23,
   "metadata": {},
   "outputs": [],
   "source": [
    "data.loc[data[data['social_neighbor'].isnull()].index, 'social_neighbor'] = 7\n",
    "data.loc[data[data['social_friend'].isnull()].index, 'social_friend'] = 7"
   ]
  },
  {
   "cell_type": "markdown",
   "metadata": {},
   "source": [
    "#### （4）对 invest_other 进行处理\n",
    "invest_other：其他投资，有填的置1，没填的置0."
   ]
  },
  {
   "cell_type": "code",
   "execution_count": 24,
   "metadata": {},
   "outputs": [
    {
     "data": {
      "text/plain": [
       "10956"
      ]
     },
     "execution_count": 24,
     "metadata": {},
     "output_type": "execute_result"
    }
   ],
   "source": [
    "data.loc[data[data['invest_other'].notnull()].index, 'invest_other'] = 1\n",
    "data['invest_other'].fillna(0, inplace=True)\n",
    "data['invest_other'].notnull().sum()"
   ]
  },
  {
   "cell_type": "markdown",
   "metadata": {},
   "source": [
    "#### （5）对所有 categorical 数据进行 One-Hot 编码\n",
    "在此之前，要先将它们的数据类型做一下转换，还要注意不改变数值型的数据类型。"
   ]
  },
  {
   "cell_type": "code",
   "execution_count": 25,
   "metadata": {},
   "outputs": [],
   "source": [
    "for i in data.columns:\n",
    "    if i not in num_columns:\n",
    "        data[i] = data[i].astype(str)"
   ]
  },
  {
   "cell_type": "code",
   "execution_count": 26,
   "metadata": {},
   "outputs": [
    {
     "name": "stdout",
     "output_type": "stream",
     "text": [
      "<class 'pandas.core.frame.DataFrame'>\n",
      "Int64Index: 10956 entries, 1 to 10968\n",
      "Columns: 126 entries, survey_type to age\n",
      "dtypes: float64(20), int64(3), object(103)\n",
      "memory usage: 10.9+ MB\n"
     ]
    }
   ],
   "source": [
    "data.info()"
   ]
  },
  {
   "cell_type": "code",
   "execution_count": 27,
   "metadata": {},
   "outputs": [
    {
     "name": "stdout",
     "output_type": "stream",
     "text": [
      "<class 'pandas.core.frame.DataFrame'>\n",
      "Int64Index: 10956 entries, 1 to 10968\n",
      "Columns: 644 entries, income to neighbor_familiarity_nan\n",
      "dtypes: float64(20), int64(3), uint8(621)\n",
      "memory usage: 8.8 MB\n"
     ]
    }
   ],
   "source": [
    "dummied_data = pd.get_dummies(data)\n",
    "dummied_data.info()"
   ]
  },
  {
   "cell_type": "code",
   "execution_count": 28,
   "metadata": {},
   "outputs": [],
   "source": [
    "# 将训练集和测试集分开\n",
    "X_train = dummied_data.loc[train.index, :]\n",
    "X_test = dummied_data.loc[test.index, :]\n",
    "# y_train = y_train.astype(str)   # 分类问题将 label 转换成 str 类型。"
   ]
  },
  {
   "cell_type": "markdown",
   "metadata": {},
   "source": [
    "#### （6）上采样\n",
    "由于幸福指数为 1 和 2 的样本数量较少，导致样本不平衡，因此需要对其进行上采样。"
   ]
  },
  {
   "cell_type": "code",
   "execution_count": 29,
   "metadata": {},
   "outputs": [],
   "source": [
    "train_df = pd.concat((X_train, y_train), axis=1)\n",
    "\n",
    "# happiness==1的行\n",
    "h1_df = pd.DataFrame(np.repeat(train_df[train_df['happiness']==1].values,20,axis=0))\n",
    "h1_df.columns = train_df.columns\n",
    "# happiness==2的行\n",
    "h2_df = pd.DataFrame(np.repeat(train_df[train_df['happiness']==2].values,5,axis=0))\n",
    "h2_df.columns = train_df.columns\n",
    "# happiness==3的行\n",
    "h3_df = pd.DataFrame(np.repeat(train_df[train_df['happiness']==3].values,2,axis=0))\n",
    "h3_df.columns = train_df.columns\n",
    "# happiness==5的行\n",
    "h5_df = pd.DataFrame(np.repeat(train_df[train_df['happiness']==5].values,1,axis=0))\n",
    "h5_df.columns = train_df.columns\n"
   ]
  },
  {
   "cell_type": "code",
   "execution_count": 30,
   "metadata": {},
   "outputs": [
    {
     "data": {
      "text/plain": [
       "(16281, 645)"
      ]
     },
     "execution_count": 30,
     "metadata": {},
     "output_type": "execute_result"
    }
   ],
   "source": [
    "new_train = pd.concat((train_df, h1_df, h2_df, h3_df, h5_df), axis=0)\n",
    "new_train.shape"
   ]
  },
  {
   "cell_type": "code",
   "execution_count": 31,
   "metadata": {},
   "outputs": [
    {
     "data": {
      "text/plain": [
       "4.0    4818\n",
       "3.0    3477\n",
       "2.0    2982\n",
       "5.0    2820\n",
       "1.0    2184\n",
       "Name: happiness, dtype: int64"
      ]
     },
     "execution_count": 31,
     "metadata": {},
     "output_type": "execute_result"
    }
   ],
   "source": [
    "new_train[\"happiness\"].value_counts()"
   ]
  },
  {
   "cell_type": "code",
   "execution_count": 32,
   "metadata": {},
   "outputs": [],
   "source": [
    "y_train = new_train.pop(\"happiness\").values\n",
    "y_train = y_train.astype(str)"
   ]
  },
  {
   "cell_type": "markdown",
   "metadata": {},
   "source": [
    "## 构建模型\n",
    "### 1、XGBClassifier"
   ]
  },
  {
   "cell_type": "code",
   "execution_count": 39,
   "metadata": {},
   "outputs": [],
   "source": [
    "from xgboost import XGBClassifier"
   ]
  },
  {
   "cell_type": "markdown",
   "metadata": {},
   "source": [
    "### 2、Random Forest"
   ]
  },
  {
   "cell_type": "code",
   "execution_count": 33,
   "metadata": {},
   "outputs": [],
   "source": [
    "from sklearn.ensemble import RandomForestClassifier"
   ]
  },
  {
   "cell_type": "code",
   "execution_count": 37,
   "metadata": {},
   "outputs": [
    {
     "name": "stdout",
     "output_type": "stream",
     "text": [
      "{'max_depth': 31}\n",
      "0.960751796572692\n"
     ]
    }
   ],
   "source": [
    "rf = RandomForestClassifier(n_estimators=140)\n",
    "params = {\n",
    "    'max_depth': [30,31,32],\n",
    "}\n",
    "clf = GridSearchCV(rf, params, cv=5, n_jobs=-1)\n",
    "clf.fit(new_train, y_train)\n",
    "print(clf.best_params_)\n",
    "print(clf.best_score_)"
   ]
  },
  {
   "cell_type": "code",
   "execution_count": 38,
   "metadata": {},
   "outputs": [
    {
     "data": {
      "text/plain": [
       "RandomForestClassifier(bootstrap=True, class_weight=None, criterion='gini',\n",
       "            max_depth=31, max_features='auto', max_leaf_nodes=None,\n",
       "            min_impurity_decrease=0.0, min_impurity_split=None,\n",
       "            min_samples_leaf=1, min_samples_split=2,\n",
       "            min_weight_fraction_leaf=0.0, n_estimators=140, n_jobs=None,\n",
       "            oob_score=False, random_state=None, verbose=0,\n",
       "            warm_start=False)"
      ]
     },
     "execution_count": 38,
     "metadata": {},
     "output_type": "execute_result"
    }
   ],
   "source": [
    "rf = RandomForestClassifier(max_depth=31, n_estimators=140)\n",
    "rf.fit(new_train, y_train)"
   ]
  },
  {
   "cell_type": "code",
   "execution_count": 39,
   "metadata": {},
   "outputs": [
    {
     "data": {
      "text/plain": [
       "['rf.pkl']"
      ]
     },
     "execution_count": 39,
     "metadata": {},
     "output_type": "execute_result"
    }
   ],
   "source": [
    "from sklearn.externals import joblib\n",
    "joblib.dump(rf, 'rf.pkl')"
   ]
  },
  {
   "cell_type": "markdown",
   "metadata": {},
   "source": [
    "    "
   ]
  },
  {
   "cell_type": "markdown",
   "metadata": {},
   "source": [
    "    \n",
    "        \n",
    "            \n",
    "            "
   ]
  },
  {
   "cell_type": "markdown",
   "metadata": {},
   "source": [
    "    "
   ]
  },
  {
   "cell_type": "markdown",
   "metadata": {},
   "source": [
    "## 模型融合"
   ]
  },
  {
   "cell_type": "code",
   "execution_count": 40,
   "metadata": {},
   "outputs": [],
   "source": [
    "from sklearn.ensemble import VotingClassifier"
   ]
  },
  {
   "cell_type": "code",
   "execution_count": 42,
   "metadata": {},
   "outputs": [
    {
     "data": {
      "text/plain": [
       "VotingClassifier(estimators=[('rf', RandomForestClassifier(bootstrap=True, class_weight=None, criterion='gini',\n",
       "            max_depth=30, max_features='auto', max_leaf_nodes=None,\n",
       "            min_impurity_decrease=0.0, min_impurity_split=None,\n",
       "            min_samples_leaf=1, min_samples_split=2,\n",
       "            min_weig...\n",
       "       reg_lambda=1, scale_pos_weight=1, seed=None, silent=None,\n",
       "       subsample=1, verbosity=1))],\n",
       "         flatten_transform=None, n_jobs=None, voting='hard', weights=None)"
      ]
     },
     "execution_count": 42,
     "metadata": {},
     "output_type": "execute_result"
    }
   ],
   "source": [
    "xgbc = XGBClassifier(n_estimators=100, max_depth=6)\n",
    "rf = RandomForestClassifier(n_estimators=140, max_depth=30)\n",
    "\n",
    "vc = VotingClassifier(estimators=[('rf', rf),('xgb',xgbc)], voting='hard')\n",
    "vc.fit(new_train, y_train)"
   ]
  },
  {
   "cell_type": "code",
   "execution_count": 44,
   "metadata": {},
   "outputs": [],
   "source": [
    "# 保存模型\n",
    "\n",
    "joblib.dump(vc, 'vc.pkl')\n",
    "\n",
    "# 预测薪资\n",
    "y_test = vc.predict(X_test)"
   ]
  },
  {
   "cell_type": "code",
   "execution_count": 45,
   "metadata": {},
   "outputs": [],
   "source": [
    "submission = pd.DataFrame(data= {'id' : test.index, 'happiness': y_test})\n",
    "submission.to_csv('./input/submission_v2.csv', index=False)"
   ]
  }
 ],
 "metadata": {
  "kernelspec": {
   "display_name": "Python 3",
   "language": "python",
   "name": "python3"
  },
  "language_info": {
   "codemirror_mode": {
    "name": "ipython",
    "version": 3
   },
   "file_extension": ".py",
   "mimetype": "text/x-python",
   "name": "python",
   "nbconvert_exporter": "python",
   "pygments_lexer": "ipython3",
   "version": "3.7.3"
  }
 },
 "nbformat": 4,
 "nbformat_minor": 2
}
